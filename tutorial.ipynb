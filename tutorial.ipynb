{
 "cells": [
  {
   "cell_type": "markdown",
   "id": "tutorial-intro",
   "metadata": {},
   "source": [
    "# syft-widget tutorial: resilient, graceful, file-backed widgets\n",
    "\n",
    "Welcome to syft-widget! The syft ecosystem enables apps/AI/queries across distributed state, where each part of that state is stored and controlled privately by people on the network. This is the private data internet.\n",
    "\n",
    "However, it can be difficult to work with distributed state for data (i.e. files) you can't see. So, the syft ecosystem relies on powerful, file-backed widgets to help users see that state in a live, intuitive way.\n",
    "\n",
    "However, jupyter doesn't really like widgets/UIs, and it ESPECIALLY doesn't like widgets/UIs which need to live-update against the filesystem. Syft-widget is here to help.\n",
    "\n",
    "1) **UIs are local servers**: Syft-serve enables all UIs to run in syft-serve servers\n",
    "2) **UIs spin up instantly**: all widgets load in a snappy fashion because they launch with a snapshot of the API endpoints (checkpoint of data), and then roll over to the live server backends as soon as they launch.\n",
    "3) **UIs run in iframes**: Because Jupyter has such a complex DOM, it can be really hard to develop html/javascript/css in jupyter, so we launch everything in iframes to protect the widget DOM from jupyer.\n",
    "\n",
    "But enough with all that — let's just build some cool stuff."
   ]
  },
  {
   "cell_type": "markdown",
   "id": "basic-usage",
   "metadata": {},
   "source": [
    "## Part 1: Create your first widget"
   ]
  },
  {
   "cell_type": "code",
   "execution_count": 38,
   "id": "3798f117-eb5e-48ca-a76a-30d8d21cce59",
   "metadata": {},
   "outputs": [],
   "source": [
    "import syft_widget as sw"
   ]
  },
  {
   "cell_type": "code",
   "execution_count": 48,
   "id": "basic-example",
   "metadata": {
    "scrolled": true
   },
   "outputs": [
    {
     "data": {
      "text/html": [
       "\n",
       "        <iframe \n",
       "            id=\"dynamic-widget-4772313136-iframe\"\n",
       "            src=\"data:text/html;base64,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\" \n",
       "            width=\"100%\" \n",
       "            height=\"50pxpx\" \n",
       "            frameborder=\"0\" \n",
       "            style=\"border:none;border-radius:8px;\">\n",
       "        </iframe>\n",
       "        "
      ],
      "text/plain": [
       "<__main__.LiveClock at 0x11c73b830>"
      ]
     },
     "execution_count": 48,
     "metadata": {},
     "output_type": "execute_result"
    }
   ],
   "source": [
    "class LiveClock(sw.DynamicWidget):\n",
    "\n",
    "    # create endpoints for website to use\n",
    "    def get_endpoints(self):\n",
    "        \n",
    "        @self.endpoint(\"/api/time\")\n",
    "        def get_time():\n",
    "            import time\n",
    "            return {\"time\": time.strftime(\"%H:%M:%S\")}\n",
    "\n",
    "    # script which gets live-updated based on endpoints every \n",
    "    # 1 seconds (without reloading the DOM)\n",
    "    def get_template(self):\n",
    "        return '''\n",
    "            <h1>Time:<span data-field=\"time\">{time}</span></h1>\n",
    "        '''\n",
    "        \n",
    "clock = LiveClock(\"Live Clock\", height=\"50px\")\n",
    "clock"
   ]
  },
  {
   "cell_type": "markdown",
   "id": "d218c624-c005-4de2-9e1b-93d23d77bd74",
   "metadata": {},
   "source": [
    "# Part 2: See the backend"
   ]
  },
  {
   "cell_type": "code",
   "execution_count": 49,
   "id": "f30faac9-e6fe-4c19-af3a-4eb22de0fba0",
   "metadata": {},
   "outputs": [],
   "source": [
    "import syft_serve as ss"
   ]
  },
  {
   "cell_type": "code",
   "execution_count": 50,
   "id": "0693aa8a-d6ac-4e00-bd39-4466faacb70d",
   "metadata": {},
   "outputs": [
    {
     "data": {
      "text/html": [
       "\n",
       "        <div style=\"font-family: -apple-system, BlinkMacSystemFont, 'Segoe UI', Roboto, sans-serif; background: #ffffff; border: 1px solid #ddd; border-radius: 5px; padding: 15px;\">\n",
       "            <table style=\"border-collapse: collapse; width: 100%; margin-bottom: 10px; background: #ffffff;\">\n",
       "                <thead>\n",
       "                    <tr style=\"border-bottom: 2px solid #ddd; background: #f8f9fa;\">\n",
       "                        <th style=\"padding: 8px; text-align: left; color: #333;\">Name</th>\n",
       "                        <th style=\"padding: 8px; text-align: left; color: #333;\">Port</th>\n",
       "                        <th style=\"padding: 8px; text-align: left; color: #333;\">Status</th>\n",
       "                        <th style=\"padding: 8px; text-align: left; color: #333;\">Endpoints</th>\n",
       "                        <th style=\"padding: 8px; text-align: left; color: #333;\">Uptime</th>\n",
       "                        <th style=\"padding: 8px; text-align: left; color: #333;\">Expires In</th>\n",
       "                        <th style=\"padding: 8px; text-align: left; color: #333;\">PID</th>\n",
       "                    </tr>\n",
       "                </thead>\n",
       "                <tbody>\n",
       "                    \n",
       "            <tr style=\"background: #ffffff;\">\n",
       "                <td style=\"padding: 8px; color: #333;\"><strong>live_clock</strong></td>\n",
       "                <td style=\"padding: 8px; color: #333;\">8001</td>\n",
       "                <td style=\"padding: 8px; color: #27ae60;\">✅ Running</td>\n",
       "                <td style=\"padding: 8px; color: #333;\"><code>/api/time</code></td>\n",
       "                <td style=\"padding: 8px; color: #333;\">23m 5s</td>\n",
       "                <td style=\"padding: 8px; color: #f59e0b; font-weight: 500;\">23h 36m</td>\n",
       "                <td style=\"padding: 8px;\"><code style=\"background: #f8f9fa; padding: 2px 4px; border-radius: 3px; color: #333;\">16737</code></td>\n",
       "            </tr>\n",
       "            \n",
       "                </tbody>\n",
       "            </table>\n",
       "            <div style=\"color: #666; font-size: 14px;\">\n",
       "                1 servers (1 running, 0 stopped)\n",
       "            </div>\n",
       "        </div>\n",
       "        "
      ],
      "text/plain": [
       "Name          Port  Status      Endpoints    Uptime      PID\n",
       "----------  ------  ----------  -----------  --------  -----\n",
       "live_clock    8001  ✅ Running  /api/time    23m 5s    16737\n",
       "1 servers (1 running, 0 stopped)"
      ]
     },
     "execution_count": 50,
     "metadata": {},
     "output_type": "execute_result"
    }
   ],
   "source": [
    "ss.servers"
   ]
  },
  {
   "cell_type": "code",
   "execution_count": 51,
   "id": "4074ff1e-dfcc-4d2f-b266-b0db0231c974",
   "metadata": {},
   "outputs": [
    {
     "data": {
      "text/html": [
       "\n",
       "        <div style=\"background: #ffffff; border: 1px solid #ddd; border-radius: 5px; padding: 15px; font-family: -apple-system, BlinkMacSystemFont, 'Segoe UI', Roboto, sans-serif;\">\n",
       "            <h3 style=\"margin: 0 0 10px 0; color: #333;\">🚀 live_clock</h3>\n",
       "            <table style=\"width: 100%; border-collapse: collapse;\">\n",
       "                <tr>\n",
       "                    <td style=\"padding: 5px 10px 5px 0; color: #666; vertical-align: top;\">Status:</td>\n",
       "                    <td style=\"padding: 5px 0; color: #27ae60; font-weight: bold;\">✅ Running</td>\n",
       "                </tr>\n",
       "                <tr>\n",
       "                    <td style=\"padding: 5px 10px 5px 0; color: #666; vertical-align: top;\">URL:</td>\n",
       "                    <td style=\"padding: 5px 0;\"><a href=\"http://localhost:8001\" target=\"_blank\" style=\"color: #3498db; text-decoration: none;\">http://localhost:8001</a></td>\n",
       "                </tr>\n",
       "                <tr>\n",
       "                    <td style=\"padding: 5px 10px 5px 0; color: #666; vertical-align: top;\">Endpoints:</td>\n",
       "                    <td style=\"padding: 5px 0; color: #333;\"><ul style='margin: 0; padding-left: 20px;'><li><code>/api/time</code></li></ul></td>\n",
       "                </tr>\n",
       "                <tr>\n",
       "                    <td style=\"padding: 5px 10px 5px 0; color: #666; vertical-align: top;\">Uptime:</td>\n",
       "                    <td style=\"padding: 5px 0; color: #333;\">23m 6s</td>\n",
       "                </tr>\n",
       "                <tr>\n",
       "                    <td style=\"padding: 5px 10px 5px 0; color: #666; vertical-align: top;\">Expires In:</td>\n",
       "                    <td style=\"padding: 5px 0; font-weight: bold; color: #f59e0b;\">⏰ 23h 36m</td>\n",
       "                </tr>\n",
       "                <tr>\n",
       "                    <td style=\"padding: 5px 10px 5px 0; color: #666; vertical-align: top;\">PID:</td>\n",
       "                    <td style=\"padding: 5px 0;\"><code style=\"background: #f8f9fa; padding: 2px 4px; border-radius: 3px; color: #333;\">16737</code></td>\n",
       "                </tr>\n",
       "            </table>\n",
       "            \n",
       "            <div style=\"margin-top: 10px; display: grid; grid-template-columns: 1fr 1fr; gap: 10px;\">\n",
       "                <div style=\"padding: 8px; background: #f8f9fa; border-radius: 3px; border: 1px solid #ddd;\">\n",
       "                    <div style=\"color: #666; font-size: 11px; margin-bottom: 5px;\">Recent logs:</div>\n",
       "                    <div style=\"font-size: 11px; color: #333;\"><span style='color: #374151; font-family: monospace;'>INFO:     127.0.0.1:49460 - \"GET /health HTTP/1.1\" 200 OK</span><br><span style='color: #374151; font-family: monospace;'>INFO:     127.0.0.1:49471 - \"GET /health HTTP/1.1\" 200 OK</span><br><span style='color: #374151; font-family: monospace;'>INFO:     127.0.0.1:49479 - \"GET /health HTTP/1.1\" 200 OK</span></div>\n",
       "                </div>\n",
       "                <div style=\"padding: 8px; background: #fef2f2; border-radius: 3px; border: 1px solid #ddd;\">\n",
       "                    <div style=\"color: #666; font-size: 11px; margin-bottom: 5px;\">Recent errors:</div>\n",
       "                    <div style=\"font-size: 11px;\"><span style='color: #d73a49; font-family: monospace;'>INFO:     Waiting for application startup.</span><br><span style='color: #d73a49; font-family: monospace;'>INFO:     Application startup complete.</span><br><span style='color: #d73a49; font-family: monospace;'>INFO:     Uvicorn running on http://127.0.0.1:8001 (Press CTRL+C to quit)</span></div>\n",
       "                </div>\n",
       "            </div>\n",
       "            \n",
       "            <div style=\"margin-top: 10px; padding-top: 10px; border-top: 1px solid #ddd; font-size: 12px; color: #666;\">\n",
       "                Try: <code style=\"background: #f8f9fa; padding: 2px 4px; border-radius: 3px;\">server.stdout.tail(20)</code>, <code style=\"background: #f8f9fa; padding: 2px 4px; border-radius: 3px;\">server.stderr.tail(20)</code>, <code style=\"background: #f8f9fa; padding: 2px 4px; border-radius: 3px;\">server.env</code>, <code style=\"background: #f8f9fa; padding: 2px 4px; border-radius: 3px;\">server.terminate()</code>\n",
       "            </div>\n",
       "        </div>\n",
       "        "
      ],
      "text/plain": [
       "Server: live_clock\n",
       "├── Status: ✅ Running\n",
       "├── URL: http://localhost:8001\n",
       "├── Endpoints: /api/time\n",
       "├── Uptime: 23m 6s\n",
       "├── Expires: ⏰ 23h 36m\n",
       "└── PID: 16737"
      ]
     },
     "execution_count": 51,
     "metadata": {},
     "output_type": "execute_result"
    }
   ],
   "source": [
    "ss.servers['live_clock']"
   ]
  },
  {
   "cell_type": "markdown",
   "id": "592eb00d-4d07-44a7-a1f0-672eab443790",
   "metadata": {},
   "source": [
    "# Part 3: Launch the same widget again"
   ]
  },
  {
   "cell_type": "code",
   "execution_count": 56,
   "id": "4438771e-cbe6-40be-b374-0b139a269588",
   "metadata": {},
   "outputs": [
    {
     "data": {
      "text/html": [
       "\n",
       "        <iframe \n",
       "            id=\"dynamic-widget-4772465024-iframe\"\n",
       "            src=\"data:text/html;base64,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\" \n",
       "            width=\"100%\" \n",
       "            height=\"55pxpx\" \n",
       "            frameborder=\"0\" \n",
       "            style=\"border:none;border-radius:8px;\">\n",
       "        </iframe>\n",
       "        "
      ],
      "text/plain": [
       "<__main__.LiveClock at 0x11c760980>"
      ]
     },
     "execution_count": 56,
     "metadata": {},
     "output_type": "execute_result"
    }
   ],
   "source": [
    "clock = LiveClock(\"Live Clock\", height=\"55px\")\n",
    "clock"
   ]
  },
  {
   "cell_type": "code",
   "execution_count": null,
   "id": "527ae3fc-5068-4ba7-8d2c-119faef1d7b7",
   "metadata": {},
   "outputs": [],
   "source": [
    "# notice how it does NOT create a new server... cuz the name"
   ]
  },
  {
   "cell_type": "code",
   "execution_count": 53,
   "id": "01672afc-6051-4cc2-990d-314c00d4cedf",
   "metadata": {},
   "outputs": [
    {
     "data": {
      "text/html": [
       "\n",
       "        <div style=\"font-family: -apple-system, BlinkMacSystemFont, 'Segoe UI', Roboto, sans-serif; background: #ffffff; border: 1px solid #ddd; border-radius: 5px; padding: 15px;\">\n",
       "            <table style=\"border-collapse: collapse; width: 100%; margin-bottom: 10px; background: #ffffff;\">\n",
       "                <thead>\n",
       "                    <tr style=\"border-bottom: 2px solid #ddd; background: #f8f9fa;\">\n",
       "                        <th style=\"padding: 8px; text-align: left; color: #333;\">Name</th>\n",
       "                        <th style=\"padding: 8px; text-align: left; color: #333;\">Port</th>\n",
       "                        <th style=\"padding: 8px; text-align: left; color: #333;\">Status</th>\n",
       "                        <th style=\"padding: 8px; text-align: left; color: #333;\">Endpoints</th>\n",
       "                        <th style=\"padding: 8px; text-align: left; color: #333;\">Uptime</th>\n",
       "                        <th style=\"padding: 8px; text-align: left; color: #333;\">Expires In</th>\n",
       "                        <th style=\"padding: 8px; text-align: left; color: #333;\">PID</th>\n",
       "                    </tr>\n",
       "                </thead>\n",
       "                <tbody>\n",
       "                    \n",
       "            <tr style=\"background: #ffffff;\">\n",
       "                <td style=\"padding: 8px; color: #333;\"><strong>live_clock</strong></td>\n",
       "                <td style=\"padding: 8px; color: #333;\">8001</td>\n",
       "                <td style=\"padding: 8px; color: #27ae60;\">✅ Running</td>\n",
       "                <td style=\"padding: 8px; color: #333;\"><code>/api/time</code></td>\n",
       "                <td style=\"padding: 8px; color: #333;\">23m 38s</td>\n",
       "                <td style=\"padding: 8px; color: #f59e0b; font-weight: 500;\">23h 36m</td>\n",
       "                <td style=\"padding: 8px;\"><code style=\"background: #f8f9fa; padding: 2px 4px; border-radius: 3px; color: #333;\">16737</code></td>\n",
       "            </tr>\n",
       "            \n",
       "                </tbody>\n",
       "            </table>\n",
       "            <div style=\"color: #666; font-size: 14px;\">\n",
       "                1 servers (1 running, 0 stopped)\n",
       "            </div>\n",
       "        </div>\n",
       "        "
      ],
      "text/plain": [
       "Name          Port  Status      Endpoints    Uptime      PID\n",
       "----------  ------  ----------  -----------  --------  -----\n",
       "live_clock    8001  ✅ Running  /api/time    23m 38s   16737\n",
       "1 servers (1 running, 0 stopped)"
      ]
     },
     "execution_count": 53,
     "metadata": {},
     "output_type": "execute_result"
    }
   ],
   "source": [
    "ss.servers"
   ]
  },
  {
   "cell_type": "markdown",
   "id": "838bb63a-dca8-4f73-b205-9a102aabefbf",
   "metadata": {},
   "source": [
    "# Part 4: Launch with a new name"
   ]
  },
  {
   "cell_type": "code",
   "execution_count": 57,
   "id": "c28e8a03-3aad-4c31-8c2d-ec58a1c24641",
   "metadata": {},
   "outputs": [
    {
     "data": {
      "text/html": [
       "\n",
       "        <iframe \n",
       "            id=\"dynamic-widget-4772465696-iframe\"\n",
       "            src=\"data:text/html;base64,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\" \n",
       "            width=\"100%\" \n",
       "            height=\"55pxpx\" \n",
       "            frameborder=\"0\" \n",
       "            style=\"border:none;border-radius:8px;\">\n",
       "        </iframe>\n",
       "        "
      ],
      "text/plain": [
       "<__main__.LiveClock at 0x11c760c20>"
      ]
     },
     "execution_count": 57,
     "metadata": {},
     "output_type": "execute_result"
    }
   ],
   "source": [
    "clock = LiveClock(\"Live Clock 2\", height=\"55px\")\n",
    "clock"
   ]
  },
  {
   "cell_type": "markdown",
   "id": "7643db6a-8f97-4e44-90cc-fd95669bc7c4",
   "metadata": {},
   "source": [
    "# Part 5: Break the widget to see how it works"
   ]
  },
  {
   "cell_type": "code",
   "execution_count": 71,
   "id": "8025084e-8ec1-4ac7-870e-922292a76b09",
   "metadata": {},
   "outputs": [
    {
     "data": {
      "text/html": [
       "\n",
       "        <iframe \n",
       "            id=\"dynamic-widget-4772636784-iframe\"\n",
       "            src=\"data:text/html;base64,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\" \n",
       "            width=\"100%\" \n",
       "            height=\"60pxpx\" \n",
       "            frameborder=\"0\" \n",
       "            style=\"border:none;border-radius:8px;\">\n",
       "        </iframe>\n",
       "        "
      ],
      "text/plain": [
       "<__main__.LiveClockBroken at 0x11c78a870>"
      ]
     },
     "execution_count": 71,
     "metadata": {},
     "output_type": "execute_result"
    }
   ],
   "source": [
    "class LiveClockBroken(sw.DynamicWidget):\n",
    "\n",
    "    # create endpoints for website to use\n",
    "    def get_endpoints(self):\n",
    "        \n",
    "        @self.endpoint(\"/api/time\")\n",
    "        def get_time():\n",
    "            import time\n",
    "            return {\"time\": time.strftime(\"%H:%M:%S\")}\n",
    "\n",
    "    # script which gets live-updated based on endpoints every \n",
    "    # 1 seconds (without reloading the DOM)\n",
    "    def get_template(self):\n",
    "        return '''\n",
    "            <h1>Time:<span data-field=\"time\">{JWEIJGEIWJWEIGJWEIGJWEG}</span></h1>\n",
    "        '''\n",
    "        \n",
    "clock = LiveClockBroken(\"Live Clock\", height=\"60px\")\n",
    "clock"
   ]
  },
  {
   "cell_type": "markdown",
   "id": "55f23b6d-0aba-416f-8bdc-a188c0114e56",
   "metadata": {},
   "source": [
    "### How it works:\n",
    "\n",
    "- **Initial Load:** before the server is ready, the python looks for {} and replaces variables in those brackets with outputs from the endpoints... but this comes from the local python runtime.\n",
    "- **Server Query:** after the server is ready, the javascript finds that server and then looks for *span* tags which associate with the right keyword (i.e. \"time\"). The javascript then replaces the text in those span tags with whatever the endpoigns say... once a second. This means the DOM of the widgets doesn't reload (e.g. for smooth scrolling, animations, etc.)\n",
    "- **Reload:** notice how the flicker still happens when you reload, but keep in mind it is NOT launching a server every time you load the widget... as long as you don't change the name. (notice how this widget is still using the Live Clock API even though it's being wrapped in a new LiveClockBroken class).\n",
    "\n",
    "Consequently, LiveClockBroken briefly flashes \"{JWEIJGEIWJWEIGJWEIGJWEG}\" before it talks to the server, because we don't have a variable called JWEIJGEIWJWEIGJWEIGJWEG, but we do have a data-field called \"time\" so the surrounding SPAN tag kicks in after 1 second and replaces {JWEIJGEIWJWEIGJWEIGJWEG}.\n",
    "\n",
    "So you get the INSTANT snappiness of immediately delivered HTML, with the full power and flexibility of a backup server which can live-query various data sources (top priority: the ~/SyftBox filesystem)."
   ]
  },
  {
   "cell_type": "markdown",
   "id": "system-monitor",
   "metadata": {},
   "source": [
    "# Part 6: A widget with python dependencies"
   ]
  },
  {
   "cell_type": "code",
   "execution_count": 74,
   "id": "system-widget",
   "metadata": {},
   "outputs": [
    {
     "data": {
      "text/html": [
       "\n",
       "        <iframe \n",
       "            id=\"dynamic-widget-4772640192-iframe\"\n",
       "            src=\"data:text/html;base64,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\" \n",
       "            width=\"100%\" \n",
       "            height=\"180pxpx\" \n",
       "            frameborder=\"0\" \n",
       "            style=\"border:none;border-radius:8px;\">\n",
       "        </iframe>\n",
       "        "
      ],
      "text/plain": [
       "<__main__.SystemMonitor at 0x11c78b5c0>"
      ]
     },
     "execution_count": 74,
     "metadata": {},
     "output_type": "execute_result"
    }
   ],
   "source": [
    "class SystemMonitor(sw.DynamicWidget):\n",
    "    def get_endpoints(self):\n",
    "        @self.endpoint(\"/api/system\")\n",
    "        def get_system_info():\n",
    "            import psutil\n",
    "            from datetime import datetime\n",
    "            return {\n",
    "                \"cpu_percent\": psutil.cpu_percent(interval=0.1),\n",
    "                \"memory_percent\": psutil.virtual_memory().percent,\n",
    "                \"disk_percent\": psutil.disk_usage('/').percent,\n",
    "                \"timestamp\": datetime.now().strftime(\"%H:%M:%S\")\n",
    "            }\n",
    "    \n",
    "    def get_template(self):\n",
    "        return '''\n",
    "        <div style=\"font-family: Arial; padding: 20px; background: #f0f0f0; border-radius: 8px;\">\n",
    "            <h3>System Monitor</h3>\n",
    "            <div style=\"display: grid; grid-template-columns: 1fr 1fr; gap: 15px;\">\n",
    "                <div>\n",
    "                    <strong>CPU:</strong> <span data-field=\"cpu_percent\">{cpu_percent}</span>%\n",
    "                </div>\n",
    "                <div>\n",
    "                    <strong>Memory:</strong> <span data-field=\"memory_percent\">{memory_percent}</span>%\n",
    "                </div>\n",
    "                <div>\n",
    "                    <strong>Disk:</strong> <span data-field=\"disk_percent\">{disk_percent}</span>%\n",
    "                </div>\n",
    "                <div>\n",
    "                    <strong>Updated:</strong> <span data-field=\"timestamp\">{timestamp}</span>\n",
    "                </div>\n",
    "            </div>\n",
    "        </div>\n",
    "        '''\n",
    "\n",
    "monitor = SystemMonitor(\"System Monitor\", \n",
    "                        dependencies=['psutil'],\n",
    "                        height=\"180px\")\n",
    "monitor"
   ]
  },
  {
   "cell_type": "markdown",
   "id": "6d74b679-a30e-4a9f-a9dc-1dc72001a576",
   "metadata": {},
   "source": [
    "# Part 7: Debug a broken widget\n",
    "\n",
    "As you develop widgets, you'll break stuff. You can fix it using some tools."
   ]
  },
  {
   "cell_type": "code",
   "execution_count": 96,
   "id": "9e231d91-cca6-4056-bb0e-2177a6520395",
   "metadata": {},
   "outputs": [
    {
     "data": {
      "text/html": [
       "\n",
       "        <iframe \n",
       "            id=\"dynamic-widget-4799000176-iframe\"\n",
       "            src=\"data:text/html;base64,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\" \n",
       "            width=\"100%\" \n",
       "            height=\"50pxpx\" \n",
       "            frameborder=\"0\" \n",
       "            style=\"border:none;border-radius:8px;\">\n",
       "        </iframe>\n",
       "        "
      ],
      "text/plain": [
       "<__main__.AnotherBrokenClock at 0x11e0aee70>"
      ]
     },
     "execution_count": 96,
     "metadata": {},
     "output_type": "execute_result"
    }
   ],
   "source": [
    "class AnotherBrokenClock(sw.DynamicWidget):\n",
    "\n",
    "    # create endpoints for website to use\n",
    "    def get_endpoints(self):\n",
    "        \n",
    "        @self.endpoint(\"/api/time\")\n",
    "        def get_time():\n",
    "            import time\n",
    "            print(THIS_VARIABLE_DOESNT_EXIST)\n",
    "            return {\"time2\": time.strftime(\"%H:%M:%S\")}\n",
    "\n",
    "    # script which gets live-updated based on endpoints every \n",
    "    # 1 seconds (without reloading the DOM)\n",
    "    def get_template(self):\n",
    "        return '''\n",
    "            <h1>Time:<span data-field=\"time2\">{time2}</span></h1>\n",
    "        '''\n",
    "        \n",
    "clock = AnotherBrokenClock(\"Broken Clock\", height=\"50px\")\n",
    "clock"
   ]
  },
  {
   "cell_type": "markdown",
   "id": "d2267b96-5c18-4e53-9568-87288ac0d3f0",
   "metadata": {},
   "source": [
    "### How did it break?\n",
    "\n",
    "It broke because the get_time() method is printing a variable that doesn't exist\n",
    "\n",
    "1) The clock still renders because the html is still html\n",
    "2) The clock doesn't show the time because the get_time() method breaks upon initial display\n",
    "3) The clock doesn't update because teh server is ALSO broken in the same way. "
   ]
  },
  {
   "cell_type": "code",
   "execution_count": 97,
   "id": "8121a993-3d1d-45d3-869a-e31dcefb399f",
   "metadata": {},
   "outputs": [
    {
     "data": {
      "text/html": [
       "\n",
       "        <div style=\"background: #ffffff; border: 1px solid #ddd; border-radius: 5px; padding: 15px; font-family: -apple-system, BlinkMacSystemFont, 'Segoe UI', Roboto, sans-serif;\">\n",
       "            <h3 style=\"margin: 0 0 10px 0; color: #333;\">🚀 broken_clock</h3>\n",
       "            <table style=\"width: 100%; border-collapse: collapse;\">\n",
       "                <tr>\n",
       "                    <td style=\"padding: 5px 10px 5px 0; color: #666; vertical-align: top;\">Status:</td>\n",
       "                    <td style=\"padding: 5px 0; color: #27ae60; font-weight: bold;\">✅ Running</td>\n",
       "                </tr>\n",
       "                <tr>\n",
       "                    <td style=\"padding: 5px 10px 5px 0; color: #666; vertical-align: top;\">URL:</td>\n",
       "                    <td style=\"padding: 5px 0;\"><a href=\"http://localhost:8005\" target=\"_blank\" style=\"color: #3498db; text-decoration: none;\">http://localhost:8005</a></td>\n",
       "                </tr>\n",
       "                <tr>\n",
       "                    <td style=\"padding: 5px 10px 5px 0; color: #666; vertical-align: top;\">Endpoints:</td>\n",
       "                    <td style=\"padding: 5px 0; color: #333;\"><ul style='margin: 0; padding-left: 20px;'><li><code>/api/time</code></li></ul></td>\n",
       "                </tr>\n",
       "                <tr>\n",
       "                    <td style=\"padding: 5px 10px 5px 0; color: #666; vertical-align: top;\">Uptime:</td>\n",
       "                    <td style=\"padding: 5px 0; color: #333;\">3m 3s</td>\n",
       "                </tr>\n",
       "                <tr>\n",
       "                    <td style=\"padding: 5px 10px 5px 0; color: #666; vertical-align: top;\">Expires In:</td>\n",
       "                    <td style=\"padding: 5px 0; font-weight: bold; color: #f59e0b;\">⏰ 23h 56m</td>\n",
       "                </tr>\n",
       "                <tr>\n",
       "                    <td style=\"padding: 5px 10px 5px 0; color: #666; vertical-align: top;\">PID:</td>\n",
       "                    <td style=\"padding: 5px 0;\"><code style=\"background: #f8f9fa; padding: 2px 4px; border-radius: 3px; color: #333;\">21485</code></td>\n",
       "                </tr>\n",
       "            </table>\n",
       "            \n",
       "            <div style=\"margin-top: 10px; display: grid; grid-template-columns: 1fr 1fr; gap: 10px;\">\n",
       "                <div style=\"padding: 8px; background: #f8f9fa; border-radius: 3px; border: 1px solid #ddd;\">\n",
       "                    <div style=\"color: #666; font-size: 11px; margin-bottom: 5px;\">Recent logs:</div>\n",
       "                    <div style=\"font-size: 11px; color: #333;\"><span style='color: #374151; font-family: monospace;'>INFO:     127.0.0.1:56647 - \"GET /health HTTP/1.1\" 200 OK</span><br><span style='color: #374151; font-family: monospace;'>INFO:     127.0.0.1:56659 - \"GET /health HTTP/1.1\" 200 OK</span><br><span style='color: #374151; font-family: monospace;'>INFO:     127.0.0.1:56667 - \"GET /health HTTP/1.1\" 200 OK</span></div>\n",
       "                </div>\n",
       "                <div style=\"padding: 8px; background: #fef2f2; border-radius: 3px; border: 1px solid #ddd;\">\n",
       "                    <div style=\"color: #666; font-size: 11px; margin-bottom: 5px;\">Recent errors:</div>\n",
       "                    <div style=\"font-size: 11px;\"><span style='color: #d73a49; font-family: monospace;'>    print(THIS_VARIABLE_DOESNT_EXIST)</span><br><span style='color: #d73a49; font-family: monospace;'>          ^^^^^^^^^^^^^^^^^^^^^^^^^^</span><br><span style='color: #d73a49; font-family: monospace;'>NameError: name 'THIS_VARIABLE_DOESNT_EXIST' is not defined</span></div>\n",
       "                </div>\n",
       "            </div>\n",
       "            \n",
       "            <div style=\"margin-top: 10px; padding-top: 10px; border-top: 1px solid #ddd; font-size: 12px; color: #666;\">\n",
       "                Try: <code style=\"background: #f8f9fa; padding: 2px 4px; border-radius: 3px;\">server.stdout.tail(20)</code>, <code style=\"background: #f8f9fa; padding: 2px 4px; border-radius: 3px;\">server.stderr.tail(20)</code>, <code style=\"background: #f8f9fa; padding: 2px 4px; border-radius: 3px;\">server.env</code>, <code style=\"background: #f8f9fa; padding: 2px 4px; border-radius: 3px;\">server.terminate()</code>\n",
       "            </div>\n",
       "        </div>\n",
       "        "
      ],
      "text/plain": [
       "Server: broken_clock\n",
       "├── Status: ✅ Running\n",
       "├── URL: http://localhost:8005\n",
       "├── Endpoints: /api/time\n",
       "├── Uptime: 3m 3s\n",
       "├── Expires: ⏰ 23h 56m\n",
       "└── PID: 21485"
      ]
     },
     "execution_count": 97,
     "metadata": {},
     "output_type": "execute_result"
    }
   ],
   "source": [
    "clock.server"
   ]
  },
  {
   "cell_type": "code",
   "execution_count": 101,
   "id": "73a84add-6dde-4e5f-a7b4-6d8a7a464bd7",
   "metadata": {},
   "outputs": [
    {
     "name": "stdout",
     "output_type": "stream",
     "text": [
      "                   ^^^^^^^^^^^^^^^^^^^^^^^^^^^^\n",
      "  File \"/Users/atrask/.syft_logs/server_envs/broken_clock/.venv/lib/python3.12/site-packages/fastapi/routing.py\", line 215, in run_endpoint_function\n",
      "    return await run_in_threadpool(dependant.call, **values)\n",
      "           ^^^^^^^^^^^^^^^^^^^^^^^^^^^^^^^^^^^^^^^^^^^^^^^^^\n",
      "  File \"/Users/atrask/.syft_logs/server_envs/broken_clock/.venv/lib/python3.12/site-packages/starlette/concurrency.py\", line 38, in run_in_threadpool\n",
      "    return await anyio.to_thread.run_sync(func)\n",
      "           ^^^^^^^^^^^^^^^^^^^^^^^^^^^^^^^^^^^^\n",
      "  File \"/Users/atrask/.syft_logs/server_envs/broken_clock/.venv/lib/python3.12/site-packages/anyio/to_thread.py\", line 56, in run_sync\n",
      "    return await get_async_backend().run_sync_in_worker_thread(\n",
      "           ^^^^^^^^^^^^^^^^^^^^^^^^^^^^^^^^^^^^^^^^^^^^^^^^^^^^\n",
      "  File \"/Users/atrask/.syft_logs/server_envs/broken_clock/.venv/lib/python3.12/site-packages/anyio/_backends/_asyncio.py\", line 2470, in run_sync_in_worker_thread\n",
      "    return await future\n",
      "           ^^^^^^^^^^^^\n",
      "  File \"/Users/atrask/.syft_logs/server_envs/broken_clock/.venv/lib/python3.12/site-packages/anyio/_backends/_asyncio.py\", line 967, in run\n",
      "    result = context.run(func, *args)\n",
      "             ^^^^^^^^^^^^^^^^^^^^^^^^\n",
      "  File \"/Users/atrask/.syft_logs/server_envs/broken_clock/broken_clock_app.py\", line 122, in endpoint_api_time\n",
      "    print(THIS_VARIABLE_DOESNT_EXIST)\n",
      "          ^^^^^^^^^^^^^^^^^^^^^^^^^^\n",
      "NameError: name 'THIS_VARIABLE_DOESNT_EXIST' is not defined\n"
     ]
    }
   ],
   "source": [
    "# we can even see the full stack trace\n",
    "print(clock.server.stderr.tail(20))"
   ]
  },
  {
   "cell_type": "markdown",
   "id": "61f1b657-e907-43de-ad32-86bd226e0257",
   "metadata": {},
   "source": [
    "### How do we fix it?\n",
    "\n",
    "We just recreate the class "
   ]
  },
  {
   "cell_type": "code",
   "execution_count": 106,
   "id": "73d77bcc-7434-444b-b165-58b8e589fee8",
   "metadata": {},
   "outputs": [],
   "source": [
    "clock.server.terminate()"
   ]
  },
  {
   "cell_type": "code",
   "execution_count": 108,
   "id": "be96b974-07ef-4f69-88c2-de226c1813c3",
   "metadata": {},
   "outputs": [
    {
     "data": {
      "text/html": [
       "\n",
       "        <iframe \n",
       "            id=\"dynamic-widget-4799495008-iframe\"\n",
       "            src=\"data:text/html;base64,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\" \n",
       "            width=\"100%\" \n",
       "            height=\"60pxpx\" \n",
       "            frameborder=\"0\" \n",
       "            style=\"border:none;border-radius:8px;\">\n",
       "        </iframe>\n",
       "        "
      ],
      "text/plain": [
       "<__main__.FixedClock at 0x11e127b60>"
      ]
     },
     "execution_count": 108,
     "metadata": {},
     "output_type": "execute_result"
    }
   ],
   "source": [
    "class FixedClock(sw.DynamicWidget):\n",
    "\n",
    "    # create endpoints for website to use\n",
    "    def get_endpoints(self):\n",
    "        \n",
    "        @self.endpoint(\"/api/time2\")\n",
    "        def get_time():\n",
    "            import time\n",
    "            # print(THIS_VARIABLE_DOESNT_EXIST)\n",
    "            return {\"time2\": time.strftime(\"%H:%M:%S\")}\n",
    "\n",
    "    # script which gets live-updated based on endpoints every \n",
    "    # 1 seconds (without reloading the DOM)\n",
    "    def get_template(self):\n",
    "        return '''\n",
    "            <h1>Time:<span data-field=\"time2\">{time2}</span></h1>\n",
    "        '''\n",
    "        \n",
    "clock = FixedClock(\"Fixed Clock\", height=\"60px\")\n",
    "clock"
   ]
  },
  {
   "cell_type": "markdown",
   "id": "8f2ad90f-284c-4bb9-aa80-09252f44aeba",
   "metadata": {},
   "source": [
    "# Part 8: Dark Mode in Jupyter/Colab\n",
    "\n",
    "Now let's create a clock which renders differently in dark/light mode"
   ]
  },
  {
   "cell_type": "code",
   "execution_count": 110,
   "id": "fd56d284-8a3b-457d-b52a-c22ec05c3000",
   "metadata": {},
   "outputs": [
    {
     "data": {
      "text/html": [
       "\n",
       "        <iframe \n",
       "            id=\"dynamic-widget-4799483536-iframe\"\n",
       "            src=\"data:text/html;base64,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\" \n",
       "            width=\"100%\" \n",
       "            height=\"80px\" \n",
       "            frameborder=\"0\" \n",
       "            style=\"border:none;border-radius:8px;\">\n",
       "        </iframe>\n",
       "        "
      ],
      "text/plain": [
       "<__main__.DarkClock at 0x11e124e90>"
      ]
     },
     "execution_count": 110,
     "metadata": {},
     "output_type": "execute_result"
    }
   ],
   "source": [
    "import syft_widget as sw\n",
    "\n",
    "class DarkClock(sw.DynamicWidget):\n",
    "\n",
    "  def get_endpoints(self):\n",
    "      @self.endpoint(\"/api/time\")\n",
    "      def get_time():\n",
    "          import time\n",
    "          return {\"time\": time.strftime(\"%H:%M:%S\")}\n",
    "\n",
    "  def _get_widget_styles(self):\n",
    "      \"\"\"Base widget styles\"\"\"\n",
    "      return \"\"\"\n",
    "      .clock-container {\n",
    "          display: flex;\n",
    "          align-items: center;\n",
    "          justify-content: center;\n",
    "          padding: 15px;\n",
    "          border-radius: 12px;\n",
    "          font-family: 'Monaco', 'Menlo', 'Ubuntu Mono', monospace;\n",
    "          font-size: 24px;\n",
    "          font-weight: bold;\n",
    "          transition: all 0.3s ease;\n",
    "          box-shadow: 0 4px 8px rgba(0, 0, 0, 0.1);\n",
    "      }\n",
    "      .clock-label {\n",
    "          margin-right: 10px;\n",
    "      }\n",
    "      .clock-time {\n",
    "          font-variant-numeric: tabular-nums;\n",
    "          letter-spacing: 1px;\n",
    "      }\n",
    "      \"\"\"\n",
    "\n",
    "  def _get_css_light(self):\n",
    "      \"\"\"Light theme styles\"\"\"\n",
    "      return \"\"\"\n",
    "      .clock-container {\n",
    "          background: linear-gradient(135deg, #667eea 0%, #764ba2 100%);\n",
    "          color: white;\n",
    "          border: 2px solid #e2e8f0;\n",
    "      }\n",
    "      body {\n",
    "          background-color: #f8fafc;\n",
    "      }\n",
    "      \"\"\"\n",
    "\n",
    "  def _get_css_dark(self):\n",
    "      \"\"\"Dark theme styles\"\"\"\n",
    "      return \"\"\"\n",
    "      .clock-container {\n",
    "          background: linear-gradient(135deg, #1a1a2e 0%, #16213e 100%);\n",
    "          color: #00d4ff;\n",
    "          border: 2px solid #4a5568;\n",
    "          box-shadow: 0 4px 8px rgba(0, 212, 255, 0.2);\n",
    "      }\n",
    "      body {\n",
    "          background-color: #0f172a;\n",
    "      }\n",
    "      .clock-time {\n",
    "          text-shadow: 0 0 10px rgba(0, 212, 255, 0.5);\n",
    "      }\n",
    "      \"\"\"\n",
    "\n",
    "  def get_template(self):\n",
    "      return '''\n",
    "      <div class=\"clock-container\">\n",
    "          <span class=\"clock-label\">Time:</span>\n",
    "          <span class=\"clock-time\" data-field=\"time\">{time}</span>\n",
    "      </div>\n",
    "      '''\n",
    "\n",
    "clock = DarkClock(\"Dark Clock\", height=80)\n",
    "clock"
   ]
  },
  {
   "cell_type": "markdown",
   "id": "pkmcpa1zy5j",
   "metadata": {},
   "source": [
    "## 9. Server Expiration and Auto-Cleanup 🆕\n",
    "\n",
    "syft-serve now includes automatic server expiration to prevent server accumulation! By default, all servers expire after 24 hours."
   ]
  },
  {
   "cell_type": "code",
   "execution_count": 3,
   "id": "f8c33823-4864-4ede-9951-d92c65882109",
   "metadata": {},
   "outputs": [],
   "source": [
    "import syft_widget as sw"
   ]
  },
  {
   "cell_type": "code",
   "execution_count": 16,
   "id": "ykmu0jsvzrj",
   "metadata": {},
   "outputs": [
    {
     "data": {
      "text/html": [
       "\n",
       "        <iframe \n",
       "            id=\"dynamic-widget-4426207872-iframe\"\n",
       "            src=\"data:text/html;base64,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\" \n",
       "            width=\"100%\" \n",
       "            height=\"50pxpx\" \n",
       "            frameborder=\"0\" \n",
       "            style=\"border:none;border-radius:8px;\">\n",
       "        </iframe>\n",
       "        "
      ],
      "text/plain": [
       "<__main__.ShortLivedClock at 0x107d29280>"
      ]
     },
     "execution_count": 16,
     "metadata": {},
     "output_type": "execute_result"
    }
   ],
   "source": [
    "class ShortLivedClock(sw.DynamicWidget):\n",
    "\n",
    "    # create endpoints for website to use\n",
    "    def get_endpoints(self):\n",
    "        \n",
    "        @self.endpoint(\"/api/short_time\")\n",
    "        def get_time():\n",
    "            import time\n",
    "            return {\"short_time\": time.strftime(\"%H:%M:%S\")}\n",
    "\n",
    "    # script which gets live-updated based on endpoints every \n",
    "    # 1 seconds (without reloading the DOM)\n",
    "    def get_template(self):\n",
    "        return '''\n",
    "            <h1>Time:<span data-field=\"short_time\">{short_time}</span></h1>\n",
    "        '''\n",
    "\n",
    "# note that in practice it takes 20-30 seconds for the server to actually die\n",
    "clock = ShortLivedClock(\"Short Lived Clock\", \n",
    "                        expiration_seconds=10,\n",
    "                        height=\"50px\")\n",
    "clock"
   ]
  },
  {
   "cell_type": "markdown",
   "id": "879m08msp6a",
   "metadata": {},
   "source": [
    "### How Server Expiration Works\n",
    "\n",
    "1. **Default Behavior**: All servers expire after 24 hours (86400 seconds)\n",
    "2. **Custom Duration**: Set `expiration_seconds` to any positive value\n",
    "3. **Never Expire**: Set `expiration_seconds=-1` for permanent servers\n",
    "4. **Self-Destruct**: Servers automatically terminate when expired\n",
    "5. **Background Monitoring**: Expiration is checked every minute\n",
    "\n",
    "This feature prevents server accumulation from forgotten notebook sessions!"
   ]
  },
  {
   "cell_type": "markdown",
   "id": "cleanup",
   "metadata": {},
   "source": [
    "## 10. Cleanup and Server Management\n",
    "\n",
    "When you're done, you can stop servers and clean up:"
   ]
  },
  {
   "cell_type": "code",
   "execution_count": 22,
   "id": "cleanup-servers",
   "metadata": {},
   "outputs": [
    {
     "data": {
      "text/plain": [
       "{'tracked_total': 0,\n",
       " 'tracked_terminated': 0,\n",
       " 'tracked_failed': [],\n",
       " 'orphaned_discovered': 0,\n",
       " 'orphaned_terminated': 0,\n",
       " 'orphaned_failed': [],\n",
       " 'success': True}"
      ]
     },
     "execution_count": 22,
     "metadata": {},
     "output_type": "execute_result"
    }
   ],
   "source": [
    "import syft_serve as ss\n",
    "ss.servers.terminate_all()"
   ]
  },
  {
   "cell_type": "markdown",
   "id": "abac4c3e-813d-4fff-ad02-7d763d278b75",
   "metadata": {},
   "source": [
    "# Next Steps\n",
    "\n",
    "Now you've learned how to create powerful widgets! Continue to the next syft tutorial to see some pre-made widets in actoin"
   ]
  },
  {
   "cell_type": "code",
   "execution_count": null,
   "id": "f60eb688-358f-4214-a0c3-25fd499422ae",
   "metadata": {},
   "outputs": [],
   "source": []
  }
 ],
 "metadata": {
  "kernelspec": {
   "display_name": "Python 3 (ipykernel)",
   "language": "python",
   "name": "python3"
  },
  "language_info": {
   "codemirror_mode": {
    "name": "ipython",
    "version": 3
   },
   "file_extension": ".py",
   "mimetype": "text/x-python",
   "name": "python",
   "nbconvert_exporter": "python",
   "pygments_lexer": "ipython3",
   "version": "3.12.9"
  }
 },
 "nbformat": 4,
 "nbformat_minor": 5
}
